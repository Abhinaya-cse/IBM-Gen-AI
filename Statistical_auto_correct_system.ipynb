{
  "nbformat": 4,
  "nbformat_minor": 0,
  "metadata": {
    "colab": {
      "provenance": []
    },
    "kernelspec": {
      "name": "python3",
      "display_name": "Python 3"
    },
    "language_info": {
      "name": "python"
    }
  },
  "cells": [
    {
      "cell_type": "code",
      "source": [
        "import os\n",
        "import re\n",
        "import numpy as np\n",
        "import pandas as pd\n",
        "from collections import Counter\n",
        "import nltk"
      ],
      "metadata": {
        "id": "ZxTFhC9IM4hg"
      },
      "execution_count": 4,
      "outputs": []
    },
    {
      "cell_type": "code",
      "source": [
        "with open('/content/wiki.txt', 'r', encoding='ISO-8859-1') as f:\n",
        "    file = f.readlines()"
      ],
      "metadata": {
        "id": "vU7x8u9TM90X"
      },
      "execution_count": 5,
      "outputs": []
    },
    {
      "cell_type": "code",
      "source": [
        "\n",
        "file[0][:3000]"
      ],
      "metadata": {
        "colab": {
          "base_uri": "https://localhost:8080/",
          "height": 140
        },
        "id": "h9FEbKaW_WDP",
        "outputId": "3fd34c62-56fa-472c-aecc-396cf1c22684"
      },
      "execution_count": 6,
      "outputs": [
        {
          "output_type": "execute_result",
          "data": {
            "text/plain": [
              "\"'anarchism is political philosophy and movement that is sceptical of authority and rejects all involuntary coercive forms of hierarchy anarchism calls for the abolition of the state which it holds to be undesirable unnecessary and harmful it is usually described alongside libertarian marxism as the libertarian wing libertarian socialism of the socialist movement and as having historical association with anti capitalism and socialism the history of anarchism goes back to prehistory when humans arguably lived in anarchistic societies long before the establishment of formal states realms or empires with the rise of organised hierarchical bodies scepticism toward authority also rose but it was not until the th century that self conscious political movement emerged during the latter half of the th and the first decades of the th century the anarchist movement flourished in most parts of the world and had significant role in workers struggles for emancipation various anarchist schools of thought formed during this period anarchists have taken part in several revolutions most notably in the spanish civil war whose end marked the end of the classical era of anarchism in the last decades of the th and into the st century the anarchist movement has been resurgent once more anarchism employs diversity of tactics in order to meet its ideal ends which can be broadly separated into revolutionary and evolutionary tactics there is significant overlap between the two which are merely descriptive revolutionary tactics aim to bring down authority and state having taken violent turn in the past evolutionary tactics aim to prefigure what an anarchist society would be like anarchist thought criticism and praxis have played part in diverse areas of human society criticisms of anarchism include claims that it is internally inconsistent violent or utopian etymology terminology and definition wilhelm weitling an example of writer who added to anarchist theory without using the exact term the etymological origin of anarchism is from the ancient greek anarkhia meaning without ruler composed of the prefix an without and the word arkhos leader or ruler the suffix ism denotes the ideological current that favours anarchy anarchism appears in english from as anarchisme and anarchy from early english usages emphasised sense of disorder various factions within the french revolution labelled their opponents as anarchists although few such accused shared many views with later anarchists many revolutionaries of the th century such as william godwin and wilhelm weitling would contribute to the anarchist doctrines of the next generation but they did not use anarchist or anarchism in describing themselves or their beliefs the first political philosopher to call himself an anarchist was pierre joseph proudhon marking the formal birth of anarchism in the mid th century since the and beginning in france libertarianism has often been used as synonym for anarchism and its use as synonym is s\""
            ],
            "application/vnd.google.colaboratory.intrinsic+json": {
              "type": "string"
            }
          },
          "metadata": {},
          "execution_count": 6
        }
      ]
    },
    {
      "cell_type": "code",
      "source": [
        "def process_data(lines):\n",
        "    \"\"\"\n",
        "    Input:\n",
        "        A file_name which is found in your current directory. You just have to read it in.\n",
        "    Output:\n",
        "        words: a list containing all the words in the corpus (text file you read) in lower case.\n",
        "    \"\"\"\n",
        "    words = []\n",
        "    for line in lines:\n",
        "        line = line.strip().lower()\n",
        "        word = re.findall(r'\\w+', line)\n",
        "        words.extend(word)\n",
        "\n",
        "    return words"
      ],
      "metadata": {
        "id": "bN9_wJ6v_ycE"
      },
      "execution_count": 7,
      "outputs": []
    },
    {
      "cell_type": "code",
      "source": [
        "word_l = process_data(file)\n",
        "vocab = set(word_l)\n",
        "print(f\"The first ten words in the text are: \\n{word_l[0:10]}\")\n",
        "print(f\"There are {len(vocab)} unique words in the vocabulary.\")"
      ],
      "metadata": {
        "colab": {
          "base_uri": "https://localhost:8080/"
        },
        "id": "nKlBFvID_z9p",
        "outputId": "78da41e4-ca4d-4d1d-950d-06e58203519f"
      },
      "execution_count": 8,
      "outputs": [
        {
          "output_type": "stream",
          "name": "stdout",
          "text": [
            "The first ten words in the text are: \n",
            "['anarchism', 'is', 'political', 'philosophy', 'and', 'movement', 'that', 'is', 'sceptical', 'of']\n",
            "There are 255 unique words in the vocabulary.\n"
          ]
        }
      ]
    },
    {
      "cell_type": "code",
      "source": [
        "def find_wrong_word(sent, vocab):\n",
        "    wrong_words = []\n",
        "    sent = sent.strip().lower().split(\" \")\n",
        "    for word in sent:\n",
        "        if word not in vocab:\n",
        "            wrong_words.append(word)\n",
        "    return wrong_words"
      ],
      "metadata": {
        "id": "gcw7iDc3_-_8"
      },
      "execution_count": 9,
      "outputs": []
    },
    {
      "cell_type": "code",
      "source": [
        "find_wrong_word('selfy consiscious political movement', vocab)"
      ],
      "metadata": {
        "colab": {
          "base_uri": "https://localhost:8080/"
        },
        "id": "Y61dRt5DAAoU",
        "outputId": "1fd880dc-aed4-4fd5-c475-9b790181f20b"
      },
      "execution_count": 10,
      "outputs": [
        {
          "output_type": "execute_result",
          "data": {
            "text/plain": [
              "['selfy', 'consiscious']"
            ]
          },
          "metadata": {},
          "execution_count": 10
        }
      ]
    },
    {
      "cell_type": "code",
      "source": [
        "def delete_letter(word, verbose=False):\n",
        "    '''\n",
        "    Input:\n",
        "        word: the string/word for which you will generate all possible words\n",
        "                in the vocabulary which have 1 missing character\n",
        "    Output:\n",
        "        delete_l: a list of all possible strings obtained by deleting 1 character from word\n",
        "    '''\n",
        "\n",
        "    delete_l = []\n",
        "    split_l = []\n",
        "    split_l = [(word[:i], word[i:]) for i in range(len(word))]\n",
        "    delete_l = [s[0]+s[1][1:] for s in split_l]\n",
        "    if verbose: print(f\"input word : {word} \\nsplit_l = {split_l}, \\ndelete_l = {delete_l}\")\n",
        "\n",
        "    return delete_l"
      ],
      "metadata": {
        "id": "IX0fM2dXBA1F"
      },
      "execution_count": 11,
      "outputs": []
    },
    {
      "cell_type": "code",
      "source": [
        "delete_word_l = delete_letter(word=\"cans\",\n",
        "                        verbose=True)"
      ],
      "metadata": {
        "colab": {
          "base_uri": "https://localhost:8080/"
        },
        "id": "I_TclwYYBNhV",
        "outputId": "614577e8-4162-4ad1-be8c-ca311b00189b"
      },
      "execution_count": 12,
      "outputs": [
        {
          "output_type": "stream",
          "name": "stdout",
          "text": [
            "input word : cans \n",
            "split_l = [('', 'cans'), ('c', 'ans'), ('ca', 'ns'), ('can', 's')], \n",
            "delete_l = ['ans', 'cns', 'cas', 'can']\n"
          ]
        }
      ]
    },
    {
      "cell_type": "code",
      "source": [
        "def switch_letter(word, verbose=False):\n",
        "    '''\n",
        "    Input:\n",
        "        word: input string\n",
        "     Output:\n",
        "        switches: a list of all possible strings with one adjacent charater switched\n",
        "    '''\n",
        "\n",
        "    switch_l = []\n",
        "    split_l = []\n",
        "    split_l = [(word[:i], word[i:]) for i in range(len(word))]\n",
        "    for s in split_l:\n",
        "        if len(s[1])>2:\n",
        "            temp = s[0] + s[1][1] + s[1][0] + s[1][2:]\n",
        "        elif len(s[1]) == 2:\n",
        "            temp = s[0] + s[1][1] + s[1][0]\n",
        "        elif len(s[1]) == 1:\n",
        "            continue\n",
        "        switch_l.append(temp)\n",
        "\n",
        "    if verbose: print(f\"Input word = {word} \\nsplit_l = {split_l} \\nswitch_l = {switch_l}\")\n",
        "\n",
        "    return switch_l"
      ],
      "metadata": {
        "id": "obeBpa-IBRty"
      },
      "execution_count": 13,
      "outputs": []
    },
    {
      "cell_type": "code",
      "source": [
        "switch_word_l = switch_letter(word=\"eta\",\n",
        "                         verbose=True)"
      ],
      "metadata": {
        "colab": {
          "base_uri": "https://localhost:8080/"
        },
        "id": "qDixFfuUBhOp",
        "outputId": "4af1497c-8d01-493e-c1f5-86be997eb685"
      },
      "execution_count": 14,
      "outputs": [
        {
          "output_type": "stream",
          "name": "stdout",
          "text": [
            "Input word = eta \n",
            "split_l = [('', 'eta'), ('e', 'ta'), ('et', 'a')] \n",
            "switch_l = ['tea', 'eat']\n"
          ]
        }
      ]
    },
    {
      "cell_type": "code",
      "source": [
        "def replace_letter(word, verbose=False):\n",
        "    '''\n",
        "    Input:\n",
        "        word: the input string/word\n",
        "    Output:\n",
        "        replaces: a list of all possible strings where we replaced one letter from the original word.\n",
        "    '''\n",
        "\n",
        "    letters = 'abcdefghijklmnopqrstuvwxyz'\n",
        "    replace_l = []\n",
        "    split_l = []\n",
        "    split_l = [(word[:i], word[i:]) for i in range(len(word))]\n",
        "    for s in split_l:\n",
        "        if len(s[1]) == 1:\n",
        "            for l in letters:\n",
        "                if l != s[1][0]:\n",
        "                    temp = l\n",
        "                    replace_l.append(s[0]+temp)\n",
        "        elif len(s) > 1:\n",
        "            for l in letters:\n",
        "                if l != s[1][0]:\n",
        "                    temp = l + s[1][1:]\n",
        "                    replace_l.append(s[0]+temp)\n",
        "\n",
        "    replace_set = set(replace_l)\n",
        "\n",
        "    # turn the set back into a list and sort it, for easier viewing\n",
        "    replace_l = sorted(list(replace_set))\n",
        "\n",
        "    if verbose: print(f\"Input word = {word} \\nsplit_l = {split_l} \\nreplace_l {replace_l}\")\n",
        "\n",
        "    return replace_l"
      ],
      "metadata": {
        "id": "-KPTu5IqB5Rr"
      },
      "execution_count": 15,
      "outputs": []
    },
    {
      "cell_type": "code",
      "source": [
        "replace_l = replace_letter(word='can',\n",
        "                              verbose=True)"
      ],
      "metadata": {
        "colab": {
          "base_uri": "https://localhost:8080/"
        },
        "id": "JXexeExMCAHh",
        "outputId": "ba03a69a-e433-4529-adba-0c5dd608689c"
      },
      "execution_count": 16,
      "outputs": [
        {
          "output_type": "stream",
          "name": "stdout",
          "text": [
            "Input word = can \n",
            "split_l = [('', 'can'), ('c', 'an'), ('ca', 'n')] \n",
            "replace_l ['aan', 'ban', 'caa', 'cab', 'cac', 'cad', 'cae', 'caf', 'cag', 'cah', 'cai', 'caj', 'cak', 'cal', 'cam', 'cao', 'cap', 'caq', 'car', 'cas', 'cat', 'cau', 'cav', 'caw', 'cax', 'cay', 'caz', 'cbn', 'ccn', 'cdn', 'cen', 'cfn', 'cgn', 'chn', 'cin', 'cjn', 'ckn', 'cln', 'cmn', 'cnn', 'con', 'cpn', 'cqn', 'crn', 'csn', 'ctn', 'cun', 'cvn', 'cwn', 'cxn', 'cyn', 'czn', 'dan', 'ean', 'fan', 'gan', 'han', 'ian', 'jan', 'kan', 'lan', 'man', 'nan', 'oan', 'pan', 'qan', 'ran', 'san', 'tan', 'uan', 'van', 'wan', 'xan', 'yan', 'zan']\n"
          ]
        }
      ]
    },
    {
      "cell_type": "code",
      "source": [
        "print(f\"Number of outputs of switch_letter('at') is {len(switch_letter('fate'))}\")"
      ],
      "metadata": {
        "colab": {
          "base_uri": "https://localhost:8080/"
        },
        "id": "fxxYl9XXCEfC",
        "outputId": "d93a4353-6865-4ee9-95e6-1e2a9c83b03a"
      },
      "execution_count": 17,
      "outputs": [
        {
          "output_type": "stream",
          "name": "stdout",
          "text": [
            "Number of outputs of switch_letter('at') is 3\n"
          ]
        }
      ]
    },
    {
      "cell_type": "code",
      "source": [
        "def insert_letter(word, verbose=False):\n",
        "    '''\n",
        "    Input:\n",
        "        word: the input string/word\n",
        "    Output:\n",
        "        inserts: a set of all possible strings with one new letter inserted at every offset\n",
        "    '''\n",
        "    letters = 'abcdefghijklmnopqrstuvwxyz'\n",
        "    insert_l = []\n",
        "    split_l = []\n",
        "    split_l = [(word[:i], word[i:]) for i in range(len(word)+1)]\n",
        "    for s in split_l:\n",
        "        for l in letters:\n",
        "            insert_l.append(s[0]+l+s[1])\n",
        "\n",
        "    if verbose: print(f\"Input word {word} \\nsplit_l = {split_l} \\ninsert_l = {insert_l}\")\n",
        "\n",
        "    return insert_l"
      ],
      "metadata": {
        "id": "cisMOZbkCMPZ"
      },
      "execution_count": 18,
      "outputs": []
    },
    {
      "cell_type": "code",
      "source": [
        "insert_l = insert_letter('at', True)\n",
        "print(f\"Number of strings output by insert_letter('at') is {len(insert_l)}\")"
      ],
      "metadata": {
        "colab": {
          "base_uri": "https://localhost:8080/"
        },
        "id": "8NzkyyAlCPSs",
        "outputId": "48419433-4797-44b4-b2c0-c47e1f4e40dc"
      },
      "execution_count": 19,
      "outputs": [
        {
          "output_type": "stream",
          "name": "stdout",
          "text": [
            "Input word at \n",
            "split_l = [('', 'at'), ('a', 't'), ('at', '')] \n",
            "insert_l = ['aat', 'bat', 'cat', 'dat', 'eat', 'fat', 'gat', 'hat', 'iat', 'jat', 'kat', 'lat', 'mat', 'nat', 'oat', 'pat', 'qat', 'rat', 'sat', 'tat', 'uat', 'vat', 'wat', 'xat', 'yat', 'zat', 'aat', 'abt', 'act', 'adt', 'aet', 'aft', 'agt', 'aht', 'ait', 'ajt', 'akt', 'alt', 'amt', 'ant', 'aot', 'apt', 'aqt', 'art', 'ast', 'att', 'aut', 'avt', 'awt', 'axt', 'ayt', 'azt', 'ata', 'atb', 'atc', 'atd', 'ate', 'atf', 'atg', 'ath', 'ati', 'atj', 'atk', 'atl', 'atm', 'atn', 'ato', 'atp', 'atq', 'atr', 'ats', 'att', 'atu', 'atv', 'atw', 'atx', 'aty', 'atz']\n",
            "Number of strings output by insert_letter('at') is 78\n"
          ]
        }
      ]
    },
    {
      "cell_type": "code",
      "source": [
        "def edit_one_letter(word, allow_switches = True):\n",
        "    \"\"\"\n",
        "    Input:\n",
        "        word: the string/word for which we will generate all possible wordsthat are one edit away.\n",
        "    Output:\n",
        "        edit_one_set: a set of words with one possible edit. Please return a set. and not a list.\n",
        "    \"\"\"\n",
        "\n",
        "    edit_one_set = set()\n",
        "    insert_l = insert_letter(word)\n",
        "    delete_l = delete_letter(word)\n",
        "    replace_l = replace_letter(word)\n",
        "    switch_l = switch_letter(word)\n",
        "\n",
        "    if allow_switches:\n",
        "        ans = insert_l + delete_l + replace_l + switch_l\n",
        "    else:\n",
        "        ans = insert_l + delete_l + replace_l\n",
        "\n",
        "    edit_one_set = set(ans)\n",
        "\n",
        "    return edit_one_set"
      ],
      "metadata": {
        "id": "BGimY9o7CaKd"
      },
      "execution_count": 20,
      "outputs": []
    },
    {
      "cell_type": "code",
      "source": [
        "tmp_word = \"at\"\n",
        "tmp_edit_one_set = edit_one_letter(tmp_word)\n",
        "# turn this into a list to sort it, in order to view it\n",
        "tmp_edit_one_l = sorted(list(tmp_edit_one_set))\n",
        "\n",
        "print(f\"input word : {tmp_word} \\nedit_one_l \\n{tmp_edit_one_l}\\n\")\n",
        "#print(f\"The type of the returned object should be a set {type(tmp_edit_one_set)}\")\n",
        "print(f\"Number of outputs from edit_one_letter('at') is {len(edit_one_letter('at'))}\")"
      ],
      "metadata": {
        "colab": {
          "base_uri": "https://localhost:8080/"
        },
        "id": "vPMIuGHqCcpi",
        "outputId": "b7f86cb0-7292-449f-f053-a7bf0f508853"
      },
      "execution_count": 21,
      "outputs": [
        {
          "output_type": "stream",
          "name": "stdout",
          "text": [
            "input word : at \n",
            "edit_one_l \n",
            "['a', 'aa', 'aat', 'ab', 'abt', 'ac', 'act', 'ad', 'adt', 'ae', 'aet', 'af', 'aft', 'ag', 'agt', 'ah', 'aht', 'ai', 'ait', 'aj', 'ajt', 'ak', 'akt', 'al', 'alt', 'am', 'amt', 'an', 'ant', 'ao', 'aot', 'ap', 'apt', 'aq', 'aqt', 'ar', 'art', 'as', 'ast', 'ata', 'atb', 'atc', 'atd', 'ate', 'atf', 'atg', 'ath', 'ati', 'atj', 'atk', 'atl', 'atm', 'atn', 'ato', 'atp', 'atq', 'atr', 'ats', 'att', 'atu', 'atv', 'atw', 'atx', 'aty', 'atz', 'au', 'aut', 'av', 'avt', 'aw', 'awt', 'ax', 'axt', 'ay', 'ayt', 'az', 'azt', 'bat', 'bt', 'cat', 'ct', 'dat', 'dt', 'eat', 'et', 'fat', 'ft', 'gat', 'gt', 'hat', 'ht', 'iat', 'it', 'jat', 'jt', 'kat', 'kt', 'lat', 'lt', 'mat', 'mt', 'nat', 'nt', 'oat', 'ot', 'pat', 'pt', 'qat', 'qt', 'rat', 'rt', 'sat', 'st', 't', 'ta', 'tat', 'tt', 'uat', 'ut', 'vat', 'vt', 'wat', 'wt', 'xat', 'xt', 'yat', 'yt', 'zat', 'zt']\n",
            "\n",
            "Number of outputs from edit_one_letter('at') is 129\n"
          ]
        }
      ]
    },
    {
      "cell_type": "code",
      "source": [
        "def edit_two_letters(word, allow_switches = True):\n",
        "    '''\n",
        "    Input:\n",
        "        word: the input string/word\n",
        "    Output:\n",
        "        edit_two_set: a set of strings with all possible two edits\n",
        "    '''\n",
        "\n",
        "    edit_two_set = set()\n",
        "    one_edit = edit_one_letter(word)\n",
        "    ans = []\n",
        "    for w in one_edit:\n",
        "        ans.append(w)\n",
        "        ans.extend(edit_one_letter(w))\n",
        "\n",
        "    edit_two_set = set(ans)\n",
        "\n",
        "    return edit_two_set"
      ],
      "metadata": {
        "id": "KbpIPydkCebD"
      },
      "execution_count": 22,
      "outputs": []
    },
    {
      "cell_type": "code",
      "source": [
        "tmp_edit_two_set = edit_two_letters(\"a\")\n",
        "tmp_edit_two_l = sorted(list(tmp_edit_two_set))\n",
        "print(f\"Number of strings with edit distance of two: {len(tmp_edit_two_l)}\")\n",
        "print(f\"First 10 strings {tmp_edit_two_l[:10]}\")\n",
        "print(f\"Last 10 strings {tmp_edit_two_l[-10:]}\")\n",
        "print(f\"The data type of the returned object should be a set {type(tmp_edit_two_set)}\")\n",
        "print(f\"Number of strings that are 2 edit distances from 'at' is {len(edit_two_letters('at'))}\")"
      ],
      "metadata": {
        "colab": {
          "base_uri": "https://localhost:8080/"
        },
        "id": "JCERrR3MCkQI",
        "outputId": "c80c7b26-01bc-4f9b-f47b-e21989b38762"
      },
      "execution_count": 23,
      "outputs": [
        {
          "output_type": "stream",
          "name": "stdout",
          "text": [
            "Number of strings with edit distance of two: 2654\n",
            "First 10 strings ['', 'a', 'aa', 'aaa', 'aab', 'aac', 'aad', 'aae', 'aaf', 'aag']\n",
            "Last 10 strings ['zv', 'zva', 'zw', 'zwa', 'zx', 'zxa', 'zy', 'zya', 'zz', 'zza']\n",
            "The data type of the returned object should be a set <class 'set'>\n",
            "Number of strings that are 2 edit distances from 'at' is 7154\n"
          ]
        }
      ]
    },
    {
      "cell_type": "code",
      "source": [
        "def get_count(word_l):\n",
        "    '''\n",
        "    Input:\n",
        "        word_l: a set of words representing the corpus.\n",
        "    Output:\n",
        "        word_count_dict: The wordcount dictionary where key is the word and value is its frequency.\n",
        "    '''\n",
        "    word_count_dict = {}\n",
        "    word_count_dict = Counter(word_l)\n",
        "    return word_count_dict"
      ],
      "metadata": {
        "id": "SxBpTrzOCl--"
      },
      "execution_count": 24,
      "outputs": []
    },
    {
      "cell_type": "code",
      "source": [
        "word_count_dict = get_count(word_l)\n",
        "print(f\"There are {len(word_count_dict)} key values pairs\")\n",
        "print(f\"The count for the word 'thee' is {word_count_dict.get('thee',0)}\")"
      ],
      "metadata": {
        "colab": {
          "base_uri": "https://localhost:8080/"
        },
        "id": "iPgcCOpBCq0B",
        "outputId": "59dc21af-aaa4-4e28-8e69-a117d86242b9"
      },
      "execution_count": 25,
      "outputs": [
        {
          "output_type": "stream",
          "name": "stdout",
          "text": [
            "There are 255 key values pairs\n",
            "The count for the word 'thee' is 0\n"
          ]
        }
      ]
    },
    {
      "cell_type": "code",
      "source": [
        "def get_probs(word_count_dict):\n",
        "    '''\n",
        "    Input:\n",
        "        word_count_dict: The wordcount dictionary where key is the word and value is its frequency.\n",
        "    Output:\n",
        "        probs: A dictionary where keys are the words and the values are the probability that a word will occur.\n",
        "    '''\n",
        "    probs = {}\n",
        "    total = 1\n",
        "    for word in word_count_dict.keys():\n",
        "        total = total + word_count_dict[word]\n",
        "\n",
        "    for word in word_count_dict.keys():\n",
        "        probs[word] = word_count_dict[word]/total\n",
        "    return probs"
      ],
      "metadata": {
        "id": "qJXUpT80CxWu"
      },
      "execution_count": 26,
      "outputs": []
    },
    {
      "cell_type": "code",
      "source": [
        "probs = get_probs(word_count_dict)\n",
        "print(f\"Length of probs is {len(probs)}\")\n"
      ],
      "metadata": {
        "colab": {
          "base_uri": "https://localhost:8080/"
        },
        "id": "WhSMyfgJCymg",
        "outputId": "b0de4d47-886d-4125-deaf-d21655486df6"
      },
      "execution_count": 27,
      "outputs": [
        {
          "output_type": "stream",
          "name": "stdout",
          "text": [
            "Length of probs is 255\n"
          ]
        }
      ]
    },
    {
      "cell_type": "code",
      "source": [
        "prob_df = pd.DataFrame({'word':probs.keys(), 'probability':probs.values()}).sort_values(by='probability', ascending=False)\n",
        "prob_df.sample(5)"
      ],
      "metadata": {
        "colab": {
          "base_uri": "https://localhost:8080/",
          "height": 206
        },
        "id": "d6NttGjnC9sC",
        "outputId": "fdfc5225-975e-4925-fcff-ae0fc11e195d"
      },
      "execution_count": 28,
      "outputs": [
        {
          "output_type": "execute_result",
          "data": {
            "text/plain": [
              "             word  probability\n",
              "106       several     0.002132\n",
              "95   emancipation     0.002132\n",
              "70           rose     0.002132\n",
              "142           are     0.002132\n",
              "125       employs     0.002132"
            ],
            "text/html": [
              "\n",
              "  <div id=\"df-212dbf0b-1614-4845-8e4e-61700295d146\" class=\"colab-df-container\">\n",
              "    <div>\n",
              "<style scoped>\n",
              "    .dataframe tbody tr th:only-of-type {\n",
              "        vertical-align: middle;\n",
              "    }\n",
              "\n",
              "    .dataframe tbody tr th {\n",
              "        vertical-align: top;\n",
              "    }\n",
              "\n",
              "    .dataframe thead th {\n",
              "        text-align: right;\n",
              "    }\n",
              "</style>\n",
              "<table border=\"1\" class=\"dataframe\">\n",
              "  <thead>\n",
              "    <tr style=\"text-align: right;\">\n",
              "      <th></th>\n",
              "      <th>word</th>\n",
              "      <th>probability</th>\n",
              "    </tr>\n",
              "  </thead>\n",
              "  <tbody>\n",
              "    <tr>\n",
              "      <th>106</th>\n",
              "      <td>several</td>\n",
              "      <td>0.002132</td>\n",
              "    </tr>\n",
              "    <tr>\n",
              "      <th>95</th>\n",
              "      <td>emancipation</td>\n",
              "      <td>0.002132</td>\n",
              "    </tr>\n",
              "    <tr>\n",
              "      <th>70</th>\n",
              "      <td>rose</td>\n",
              "      <td>0.002132</td>\n",
              "    </tr>\n",
              "    <tr>\n",
              "      <th>142</th>\n",
              "      <td>are</td>\n",
              "      <td>0.002132</td>\n",
              "    </tr>\n",
              "    <tr>\n",
              "      <th>125</th>\n",
              "      <td>employs</td>\n",
              "      <td>0.002132</td>\n",
              "    </tr>\n",
              "  </tbody>\n",
              "</table>\n",
              "</div>\n",
              "    <div class=\"colab-df-buttons\">\n",
              "\n",
              "  <div class=\"colab-df-container\">\n",
              "    <button class=\"colab-df-convert\" onclick=\"convertToInteractive('df-212dbf0b-1614-4845-8e4e-61700295d146')\"\n",
              "            title=\"Convert this dataframe to an interactive table.\"\n",
              "            style=\"display:none;\">\n",
              "\n",
              "  <svg xmlns=\"http://www.w3.org/2000/svg\" height=\"24px\" viewBox=\"0 -960 960 960\">\n",
              "    <path d=\"M120-120v-720h720v720H120Zm60-500h600v-160H180v160Zm220 220h160v-160H400v160Zm0 220h160v-160H400v160ZM180-400h160v-160H180v160Zm440 0h160v-160H620v160ZM180-180h160v-160H180v160Zm440 0h160v-160H620v160Z\"/>\n",
              "  </svg>\n",
              "    </button>\n",
              "\n",
              "  <style>\n",
              "    .colab-df-container {\n",
              "      display:flex;\n",
              "      gap: 12px;\n",
              "    }\n",
              "\n",
              "    .colab-df-convert {\n",
              "      background-color: #E8F0FE;\n",
              "      border: none;\n",
              "      border-radius: 50%;\n",
              "      cursor: pointer;\n",
              "      display: none;\n",
              "      fill: #1967D2;\n",
              "      height: 32px;\n",
              "      padding: 0 0 0 0;\n",
              "      width: 32px;\n",
              "    }\n",
              "\n",
              "    .colab-df-convert:hover {\n",
              "      background-color: #E2EBFA;\n",
              "      box-shadow: 0px 1px 2px rgba(60, 64, 67, 0.3), 0px 1px 3px 1px rgba(60, 64, 67, 0.15);\n",
              "      fill: #174EA6;\n",
              "    }\n",
              "\n",
              "    .colab-df-buttons div {\n",
              "      margin-bottom: 4px;\n",
              "    }\n",
              "\n",
              "    [theme=dark] .colab-df-convert {\n",
              "      background-color: #3B4455;\n",
              "      fill: #D2E3FC;\n",
              "    }\n",
              "\n",
              "    [theme=dark] .colab-df-convert:hover {\n",
              "      background-color: #434B5C;\n",
              "      box-shadow: 0px 1px 3px 1px rgba(0, 0, 0, 0.15);\n",
              "      filter: drop-shadow(0px 1px 2px rgba(0, 0, 0, 0.3));\n",
              "      fill: #FFFFFF;\n",
              "    }\n",
              "  </style>\n",
              "\n",
              "    <script>\n",
              "      const buttonEl =\n",
              "        document.querySelector('#df-212dbf0b-1614-4845-8e4e-61700295d146 button.colab-df-convert');\n",
              "      buttonEl.style.display =\n",
              "        google.colab.kernel.accessAllowed ? 'block' : 'none';\n",
              "\n",
              "      async function convertToInteractive(key) {\n",
              "        const element = document.querySelector('#df-212dbf0b-1614-4845-8e4e-61700295d146');\n",
              "        const dataTable =\n",
              "          await google.colab.kernel.invokeFunction('convertToInteractive',\n",
              "                                                    [key], {});\n",
              "        if (!dataTable) return;\n",
              "\n",
              "        const docLinkHtml = 'Like what you see? Visit the ' +\n",
              "          '<a target=\"_blank\" href=https://colab.research.google.com/notebooks/data_table.ipynb>data table notebook</a>'\n",
              "          + ' to learn more about interactive tables.';\n",
              "        element.innerHTML = '';\n",
              "        dataTable['output_type'] = 'display_data';\n",
              "        await google.colab.output.renderOutput(dataTable, element);\n",
              "        const docLink = document.createElement('div');\n",
              "        docLink.innerHTML = docLinkHtml;\n",
              "        element.appendChild(docLink);\n",
              "      }\n",
              "    </script>\n",
              "  </div>\n",
              "\n",
              "\n",
              "<div id=\"df-bbefe85e-65f3-42e9-b692-f9f5d11d6c9e\">\n",
              "  <button class=\"colab-df-quickchart\" onclick=\"quickchart('df-bbefe85e-65f3-42e9-b692-f9f5d11d6c9e')\"\n",
              "            title=\"Suggest charts\"\n",
              "            style=\"display:none;\">\n",
              "\n",
              "<svg xmlns=\"http://www.w3.org/2000/svg\" height=\"24px\"viewBox=\"0 0 24 24\"\n",
              "     width=\"24px\">\n",
              "    <g>\n",
              "        <path d=\"M19 3H5c-1.1 0-2 .9-2 2v14c0 1.1.9 2 2 2h14c1.1 0 2-.9 2-2V5c0-1.1-.9-2-2-2zM9 17H7v-7h2v7zm4 0h-2V7h2v10zm4 0h-2v-4h2v4z\"/>\n",
              "    </g>\n",
              "</svg>\n",
              "  </button>\n",
              "\n",
              "<style>\n",
              "  .colab-df-quickchart {\n",
              "      --bg-color: #E8F0FE;\n",
              "      --fill-color: #1967D2;\n",
              "      --hover-bg-color: #E2EBFA;\n",
              "      --hover-fill-color: #174EA6;\n",
              "      --disabled-fill-color: #AAA;\n",
              "      --disabled-bg-color: #DDD;\n",
              "  }\n",
              "\n",
              "  [theme=dark] .colab-df-quickchart {\n",
              "      --bg-color: #3B4455;\n",
              "      --fill-color: #D2E3FC;\n",
              "      --hover-bg-color: #434B5C;\n",
              "      --hover-fill-color: #FFFFFF;\n",
              "      --disabled-bg-color: #3B4455;\n",
              "      --disabled-fill-color: #666;\n",
              "  }\n",
              "\n",
              "  .colab-df-quickchart {\n",
              "    background-color: var(--bg-color);\n",
              "    border: none;\n",
              "    border-radius: 50%;\n",
              "    cursor: pointer;\n",
              "    display: none;\n",
              "    fill: var(--fill-color);\n",
              "    height: 32px;\n",
              "    padding: 0;\n",
              "    width: 32px;\n",
              "  }\n",
              "\n",
              "  .colab-df-quickchart:hover {\n",
              "    background-color: var(--hover-bg-color);\n",
              "    box-shadow: 0 1px 2px rgba(60, 64, 67, 0.3), 0 1px 3px 1px rgba(60, 64, 67, 0.15);\n",
              "    fill: var(--button-hover-fill-color);\n",
              "  }\n",
              "\n",
              "  .colab-df-quickchart-complete:disabled,\n",
              "  .colab-df-quickchart-complete:disabled:hover {\n",
              "    background-color: var(--disabled-bg-color);\n",
              "    fill: var(--disabled-fill-color);\n",
              "    box-shadow: none;\n",
              "  }\n",
              "\n",
              "  .colab-df-spinner {\n",
              "    border: 2px solid var(--fill-color);\n",
              "    border-color: transparent;\n",
              "    border-bottom-color: var(--fill-color);\n",
              "    animation:\n",
              "      spin 1s steps(1) infinite;\n",
              "  }\n",
              "\n",
              "  @keyframes spin {\n",
              "    0% {\n",
              "      border-color: transparent;\n",
              "      border-bottom-color: var(--fill-color);\n",
              "      border-left-color: var(--fill-color);\n",
              "    }\n",
              "    20% {\n",
              "      border-color: transparent;\n",
              "      border-left-color: var(--fill-color);\n",
              "      border-top-color: var(--fill-color);\n",
              "    }\n",
              "    30% {\n",
              "      border-color: transparent;\n",
              "      border-left-color: var(--fill-color);\n",
              "      border-top-color: var(--fill-color);\n",
              "      border-right-color: var(--fill-color);\n",
              "    }\n",
              "    40% {\n",
              "      border-color: transparent;\n",
              "      border-right-color: var(--fill-color);\n",
              "      border-top-color: var(--fill-color);\n",
              "    }\n",
              "    60% {\n",
              "      border-color: transparent;\n",
              "      border-right-color: var(--fill-color);\n",
              "    }\n",
              "    80% {\n",
              "      border-color: transparent;\n",
              "      border-right-color: var(--fill-color);\n",
              "      border-bottom-color: var(--fill-color);\n",
              "    }\n",
              "    90% {\n",
              "      border-color: transparent;\n",
              "      border-bottom-color: var(--fill-color);\n",
              "    }\n",
              "  }\n",
              "</style>\n",
              "\n",
              "  <script>\n",
              "    async function quickchart(key) {\n",
              "      const quickchartButtonEl =\n",
              "        document.querySelector('#' + key + ' button');\n",
              "      quickchartButtonEl.disabled = true;  // To prevent multiple clicks.\n",
              "      quickchartButtonEl.classList.add('colab-df-spinner');\n",
              "      try {\n",
              "        const charts = await google.colab.kernel.invokeFunction(\n",
              "            'suggestCharts', [key], {});\n",
              "      } catch (error) {\n",
              "        console.error('Error during call to suggestCharts:', error);\n",
              "      }\n",
              "      quickchartButtonEl.classList.remove('colab-df-spinner');\n",
              "      quickchartButtonEl.classList.add('colab-df-quickchart-complete');\n",
              "    }\n",
              "    (() => {\n",
              "      let quickchartButtonEl =\n",
              "        document.querySelector('#df-bbefe85e-65f3-42e9-b692-f9f5d11d6c9e button');\n",
              "      quickchartButtonEl.style.display =\n",
              "        google.colab.kernel.accessAllowed ? 'block' : 'none';\n",
              "    })();\n",
              "  </script>\n",
              "</div>\n",
              "\n",
              "    </div>\n",
              "  </div>\n"
            ],
            "application/vnd.google.colaboratory.intrinsic+json": {
              "type": "dataframe",
              "summary": "{\n  \"name\": \"prob_df\",\n  \"rows\": 5,\n  \"fields\": [\n    {\n      \"column\": \"word\",\n      \"properties\": {\n        \"dtype\": \"string\",\n        \"num_unique_values\": 5,\n        \"samples\": [\n          \"emancipation\",\n          \"employs\",\n          \"rose\"\n        ],\n        \"semantic_type\": \"\",\n        \"description\": \"\"\n      }\n    },\n    {\n      \"column\": \"probability\",\n      \"properties\": {\n        \"dtype\": \"number\",\n        \"std\": 0.0,\n        \"min\": 0.0021321961620469083,\n        \"max\": 0.0021321961620469083,\n        \"num_unique_values\": 1,\n        \"samples\": [\n          0.0021321961620469083\n        ],\n        \"semantic_type\": \"\",\n        \"description\": \"\"\n      }\n    }\n  ]\n}"
            }
          },
          "metadata": {},
          "execution_count": 28
        }
      ]
    },
    {
      "cell_type": "code",
      "source": [
        "prob_df.head().plot.bar(x='word', y='probability')"
      ],
      "metadata": {
        "colab": {
          "base_uri": "https://localhost:8080/",
          "height": 525
        },
        "id": "ipwjVbXpDCjm",
        "outputId": "c9b042bf-050b-4fdd-a0c7-f4fce669478a"
      },
      "execution_count": 29,
      "outputs": [
        {
          "output_type": "execute_result",
          "data": {
            "text/plain": [
              "<Axes: xlabel='word'>"
            ]
          },
          "metadata": {},
          "execution_count": 29
        },
        {
          "output_type": "display_data",
          "data": {
            "text/plain": [
              "<Figure size 640x480 with 1 Axes>"
            ],
            "image/png": "[encoded data removed]"
          },
          "metadata": {}
        }
      ]
    },
    {
      "cell_type": "code",
      "source": [
        "def get_corrections(word, probs, vocab, n=2, verbose = False):\n",
        "    '''\n",
        "    Input:\n",
        "        word: a user entered string to check for suggestions\n",
        "        probs: a dictionary that maps each word to its probability in the corpus\n",
        "        vocab: a set containing all the vocabulary\n",
        "        n: number of possible word corrections you want returned in the dictionary\n",
        "    Output:\n",
        "        n_best: a list of tuples with the most probable n corrected words and their probabilities.\n",
        "    '''\n",
        "\n",
        "    suggestions = []\n",
        "    n_best = []\n",
        "\n",
        "\n",
        "    if word in probs.keys():\n",
        "        suggestions.append(word)\n",
        "    for w in edit_one_letter(word):\n",
        "        if len(suggestions) == n:\n",
        "            break\n",
        "        if w in probs.keys():\n",
        "            suggestions.append(w)\n",
        "    for w in edit_two_letters(word):\n",
        "        if len(suggestions) == n:\n",
        "            break\n",
        "        if w in probs.keys():\n",
        "            suggestions.append(w)\n",
        "\n",
        "    best_words = {}\n",
        "\n",
        "    for s in suggestions:\n",
        "        best_words[s] = probs[s]\n",
        "\n",
        "    best_words = sorted(best_words.items(), key=lambda x: x[1], reverse=True)\n",
        "\n",
        "    n_best = best_words\n",
        "\n",
        "    if verbose: print(\"entered word = \", word, \"\\nsuggestions = \", suggestions)\n",
        "\n",
        "    return n_best"
      ],
      "metadata": {
        "id": "LKu-ONqaSQ3B"
      },
      "execution_count": 30,
      "outputs": []
    },
    {
      "cell_type": "code",
      "source": [
        "def get_correct_word(word, vocab, probs, n):\n",
        "    corrections = get_corrections(word, probs, vocab, n, verbose=False)\n",
        "#    print(corrections)\n",
        "    if len(corrections) == 0:\n",
        "        return word\n",
        "\n",
        "    final_word = corrections[0][0]\n",
        "    final_prob = corrections[0][1]\n",
        "    for i, word_prob in enumerate(corrections):\n",
        "        #print(f\"word {i}: {word_prob[0]}, probability {word_prob[1]:.6f}\")\n",
        "        if word_prob[1] > final_prob:\n",
        "            final_word = word_prob[0]\n",
        "            final_prob = word_prob[1]\n",
        "    return final_word"
      ],
      "metadata": {
        "id": "PxiQMaW7SW27"
      },
      "execution_count": 31,
      "outputs": []
    },
    {
      "cell_type": "code",
      "source": [
        "get_correct_word('annd', vocab, probs, 100)"
      ],
      "metadata": {
        "colab": {
          "base_uri": "https://localhost:8080/",
          "height": 36
        },
        "id": "jdXQ2TlUSchs",
        "outputId": "0b216d79-ab19-4300-9914-2b1127bf0d8b"
      },
      "execution_count": 32,
      "outputs": [
        {
          "output_type": "execute_result",
          "data": {
            "text/plain": [
              "'and'"
            ],
            "application/vnd.google.colaboratory.intrinsic+json": {
              "type": "string"
            }
          },
          "metadata": {},
          "execution_count": 32
        }
      ]
    },
    {
      "cell_type": "code",
      "source": [
        "def autocorrect(sentence, vocab, probs):\n",
        "    print(\"Input sentence : \", sentence)\n",
        "    wrong_words = find_wrong_word(sentence, vocab)\n",
        "    print(\"Wrong words : \", wrong_words)\n",
        "    #print(wrong_words)\n",
        "    correct_words = []\n",
        "    for word in sentence.strip().lower().split(\" \"):\n",
        "        if word in wrong_words:\n",
        "            correct_word = get_correct_word(word, vocab, probs, 15)\n",
        "            #print(word, correct_word)\n",
        "            word = correct_word\n",
        "        correct_words.append(word)\n",
        "    print(\"Output Sentence : \", \" \".join(correct_words).capitalize())"
      ],
      "metadata": {
        "id": "ojXxOERUVVkG"
      },
      "execution_count": 33,
      "outputs": []
    },
    {
      "cell_type": "code",
      "source": [
        "autocorrect(\"he is goinng home\", vocab, probs)"
      ],
      "metadata": {
        "colab": {
          "base_uri": "https://localhost:8080/"
        },
        "id": "DObiZaLVVcAe",
        "outputId": "d0d9a1ca-a1ad-4089-a632-ba9f25be73ab"
      },
      "execution_count": 34,
      "outputs": [
        {
          "output_type": "stream",
          "name": "stdout",
          "text": [
            "Input sentence :  he is goinng home\n",
            "Wrong words :  ['he', 'goinng', 'home']\n",
            "Output Sentence :  The is goinng have\n"
          ]
        }
      ]
    },
    {
      "cell_type": "code",
      "source": [
        "autocorrect(\"honsty is the best pooliccy\", vocab, probs)"
      ],
      "metadata": {
        "colab": {
          "base_uri": "https://localhost:8080/"
        },
        "id": "tvRFtKJLVfBO",
        "outputId": "12d820c7-b879-4af5-d202-73af5a4b3cc2"
      },
      "execution_count": 35,
      "outputs": [
        {
          "output_type": "stream",
          "name": "stdout",
          "text": [
            "Input sentence :  honsty is the best pooliccy\n",
            "Wrong words :  ['honsty', 'best', 'pooliccy']\n",
            "Output Sentence :  Honsty is the be pooliccy\n"
          ]
        }
      ]
    },
    {
      "cell_type": "code",
      "source": [
        "autocorrect(\"life is a diink annd lve is a druug\", vocab, probs)"
      ],
      "metadata": {
        "colab": {
          "base_uri": "https://localhost:8080/"
        },
        "id": "YZWWBMh-VlDA",
        "outputId": "80a4f7b6-a9bf-4132-8b82-9129c12f33d1"
      },
      "execution_count": 36,
      "outputs": [
        {
          "output_type": "stream",
          "name": "stdout",
          "text": [
            "Input sentence :  life is a diink annd lve is a druug\n",
            "Wrong words :  ['life', 'a', 'diink', 'annd', 'lve', 'a', 'druug']\n",
            "Output Sentence :  Like is and diink and the is and druug\n"
          ]
        }
      ]
    },
    {
      "cell_type": "code",
      "source": [
        "def count_n_grams(data, n, start_token='<s>', end_token = '<e>'):\n",
        "\n",
        "    # Initialize dictionary of n-grams and their counts\n",
        "    n_grams = {}\n",
        "\n",
        "\n",
        "    for sentence in data:\n",
        "\n",
        "        # prepend start token n times, and  append <e> one time\n",
        "        sentence = [start_token]*n + sentence + [end_token]\n",
        "        sentence = tuple(sentence)\n",
        "\n",
        "        for i in range(len(sentence)-n):\n",
        "            n_gram = sentence[i:i+n]\n",
        "            if n_gram in n_grams.keys():\n",
        "                n_grams[n_gram] += 1\n",
        "            else:\n",
        "                n_grams[n_gram] = 1\n",
        "    return n_grams"
      ],
      "metadata": {
        "id": "WUVWyNojVlFV"
      },
      "execution_count": 37,
      "outputs": []
    },
    {
      "cell_type": "code",
      "source": [
        "def split_to_sentences(data):\n",
        "    #sentences = data.split(\"\\n\")\n",
        "    sentences = [s.strip() for s in data]\n",
        "    sentences = [s for s in sentences if len(s) > 0]\n",
        "    return sentences\n",
        "\n",
        "def tokenize_sentences(sentences):\n",
        "    tokenized_sentences = []\n",
        "    for sentence in sentences:\n",
        "        sentence = sentence.lower()\n",
        "        tokenized = nltk.tokenize.word_tokenize(sentence)\n",
        "        tokenized_sentences.append(tokenized)\n",
        "    return tokenized_sentences\n",
        "\n",
        "\n",
        "def get_tokenized_data(data):\n",
        "    sentences = split_to_sentences(data)\n",
        "    tokenized_sentences = tokenize_sentences(sentences)\n",
        "    return tokenized_sentences\n"
      ],
      "metadata": {
        "id": "cgpvXQ0GVlIj"
      },
      "execution_count": 38,
      "outputs": []
    },
    {
      "cell_type": "code",
      "source": [
        "import nltk\n",
        "nltk.download('punkt')"
      ],
      "metadata": {
        "colab": {
          "base_uri": "https://localhost:8080/"
        },
        "id": "TaCzxNjjAyyc",
        "outputId": "a3609cb2-6160-4c47-d96d-3345c5434193"
      },
      "execution_count": 40,
      "outputs": [
        {
          "output_type": "stream",
          "name": "stderr",
          "text": [
            "[nltk_data] Downloading package punkt to /root/nltk_data...\n",
            "[nltk_data]   Unzipping tokenizers/punkt.zip.\n"
          ]
        },
        {
          "output_type": "execute_result",
          "data": {
            "text/plain": [
              "True"
            ]
          },
          "metadata": {},
          "execution_count": 40
        }
      ]
    },
    {
      "cell_type": "code",
      "source": [
        "tokenized_data = get_tokenized_data(file)\n",
        "bigram_counts = count_n_grams(tokenized_data, 2)"
      ],
      "metadata": {
        "id": "c-igoLA1Vxg2"
      },
      "execution_count": 42,
      "outputs": []
    },
    {
      "cell_type": "code",
      "source": [
        "def get_bigram_prob(word, prev_word, bigram_counts, factor):\n",
        "    key = tuple([prev_word, word])\n",
        "    #print(key)\n",
        "\n",
        "    ksum = 0\n",
        "    occ = 0\n",
        "    for k, v in bigram_counts.items():\n",
        "        if k[0] == prev_word:\n",
        "            ksum = ksum + v\n",
        "            occ = occ + 1\n",
        "    #print(ksum)\n",
        "    #print(occ)\n",
        "\n",
        "    count = 0\n",
        "    if key in bigram_counts.keys():\n",
        "        count = bigram_counts[key]\n",
        "    #print(type(occ))\n",
        "\n",
        "    smooth_count = count + factor\n",
        "    smooth_occ = ksum + occ*factor\n",
        "    probability = smooth_count / smooth_occ\n",
        "    #print(probability)\n",
        "    return probability"
      ],
      "metadata": {
        "id": "TMn2pMqwVxkH"
      },
      "execution_count": 43,
      "outputs": []
    },
    {
      "cell_type": "code",
      "source": [
        "get_bigram_prob('is', 'that', bigram_counts, 1)"
      ],
      "metadata": {
        "colab": {
          "base_uri": "https://localhost:8080/"
        },
        "id": "Nka74vnsV3jO",
        "outputId": "9690e322-6061-4e97-afdc-13f10f5514de"
      },
      "execution_count": 44,
      "outputs": [
        {
          "output_type": "execute_result",
          "data": {
            "text/plain": [
              "0.25"
            ]
          },
          "metadata": {},
          "execution_count": 44
        }
      ]
    },
    {
      "cell_type": "code",
      "source": [
        "def get_corrections_bigram(word, prev_word, probs, vocab, bigram_counts, unigram_weight=0.3, bigram_weight=0.7, n=5, verbose = False):\n",
        "    '''\n",
        "    Input:\n",
        "        word: a user entered string to check for suggestions\n",
        "        probs: a dictionary that maps each word to its probability in the corpus\n",
        "        vocab: a set containing all the vocabulary\n",
        "        n: number of possible word corrections you want returned in the dictionary\n",
        "    Output:\n",
        "        n_best: a list of tuples with the most probable n corrected words and their probabilities.\n",
        "    '''\n",
        "\n",
        "    suggestions = []\n",
        "    n_best = []\n",
        "\n",
        "\n",
        "    if word in probs.keys():\n",
        "        suggestions.append(word)\n",
        "    for w in edit_one_letter(word):\n",
        "        if len(suggestions) == n:\n",
        "            break\n",
        "        if w in probs.keys():\n",
        "            suggestions.append(w)\n",
        "    for w in edit_two_letters(word):\n",
        "        if len(suggestions) == n:\n",
        "            break\n",
        "        if w in probs.keys():\n",
        "            suggestions.append(w)\n",
        "\n",
        "\n",
        "    best_words = {}\n",
        "\n",
        "    for s in suggestions:\n",
        "        #best_words[s] = probs[s]\n",
        "        unigram_prob = probs[s]\n",
        "        #print(s)\n",
        "        try:\n",
        "            bigram_prob = get_bigram_prob(s, prev_word, bigram_counts, 1)\n",
        "        except:\n",
        "            bigram_prob = 0.0000000000000000001\n",
        "\n",
        "        final_score = unigram_weight*unigram_prob + bigram_weight*bigram_prob\n",
        "\n",
        "        best_words[s] = final_score\n",
        "\n",
        "    best_words = sorted(best_words.items(), key=lambda x: x[1], reverse=True)\n",
        "\n",
        "    n_best = best_words\n",
        "\n",
        "    if verbose: print(\"entered word = \", word, \"\\nsuggestions = \", suggestions)\n",
        "\n",
        "    return n_best"
      ],
      "metadata": {
        "id": "Cur9AiM4V-gk"
      },
      "execution_count": 45,
      "outputs": []
    },
    {
      "cell_type": "code",
      "source": [
        "def get_correct_word_bigram(word, prev_word, probs, vocab, bigram_counts, unigram_weight, bigram_weight, n):\n",
        "    corrections = get_corrections_bigram(word, prev_word, probs, vocab,\n",
        "                                         bigram_counts, unigram_weight, bigram_weight, n, verbose=False)\n",
        "    #print(corrections)\n",
        "    if len(corrections) == 0:\n",
        "        return word\n",
        "\n",
        "    final_word = corrections[0][0]\n",
        "    final_prob = corrections[0][1]\n",
        "    for i, word_prob in enumerate(corrections):\n",
        "        #print(f\"word {i}: {word_prob[0]}, probability {word_prob[1]:.6f}\")\n",
        "        if word_prob[1] > final_prob:\n",
        "            final_word = word_prob[0]\n",
        "            final_prob = word_prob[1]\n",
        "    return final_word"
      ],
      "metadata": {
        "id": "VgKo6PlfV-i-"
      },
      "execution_count": 46,
      "outputs": []
    },
    {
      "cell_type": "code",
      "source": [
        "def autocorrect_bigram(sentence, vocab, probs, bigram_counts):\n",
        "    print(\"Input sentence : \", sentence)\n",
        "    wrong_words = find_wrong_word(sentence, vocab)\n",
        "    print(\"Wrong words : \", wrong_words)\n",
        "    #print(wrong_words)\n",
        "    correct_words = []\n",
        "    word_list = sentence.strip().lower().split(\" \")\n",
        "    for i, word in enumerate(word_list):\n",
        "        #print(i, word)\n",
        "\n",
        "        #### Previous word\n",
        "        if i==0:\n",
        "            prev_word = '<s>'\n",
        "        else:\n",
        "            prev_word = word_list[i-1]\n",
        "\n",
        "        if word in wrong_words:\n",
        "            correct_word = get_correct_word_bigram(word, prev_word, probs, vocab, bigram_counts, 0.3, 0.7, 10)\n",
        "            #print(word, correct_word)\n",
        "            word = correct_word\n",
        "        correct_words.append(word)\n",
        "    print(\"Output Sentence : \", \" \".join(correct_words).capitalize())"
      ],
      "metadata": {
        "id": "HT3UN_gkV-mi"
      },
      "execution_count": 47,
      "outputs": []
    },
    {
      "cell_type": "code",
      "source": [
        "autocorrect_bigram('anarchsim is poliitcal philosophy and movement ', vocab, probs, bigram_counts)"
      ],
      "metadata": {
        "colab": {
          "base_uri": "https://localhost:8080/"
        },
        "id": "GUP-GJ3mWI8J",
        "outputId": "203ab737-bfd0-4cca-ff5e-88ce8dd4278a"
      },
      "execution_count": 50,
      "outputs": [
        {
          "output_type": "stream",
          "name": "stdout",
          "text": [
            "Input sentence :  anarchsim is poliitcal philosophy and movement \n",
            "Wrong words :  ['anarchsim', 'poliitcal']\n",
            "Output Sentence :  Anarchism is political philosophy and movement\n"
          ]
        }
      ]
    }
  ]
}